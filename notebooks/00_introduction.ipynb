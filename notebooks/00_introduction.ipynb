{
 "cells": [
  {
   "cell_type": "markdown",
   "id": "20768aa0-824e-4cad-a6c6-7bb2d09a7605",
   "metadata": {},
   "source": [
    "# Introduction\n",
    "\n",
    "This notebooks contains a basic primer in Python and associated computational tools."
   ]
  },
  {
   "cell_type": "markdown",
   "id": "d5de39cf-7e84-4c4b-9f38-246ad86d1065",
   "metadata": {},
   "source": [
    "## What is JupyterLab?\n",
    "\n",
    "It is very powerful web-based computational environment."
   ]
  },
  {
   "cell_type": "markdown",
   "id": "d94fe7c4-dcad-44aa-9016-5b0e139f1afd",
   "metadata": {},
   "source": [
    "## What is Python?\n",
    "\n",
    "Python is a general purpose computer language."
   ]
  },
  {
   "cell_type": "markdown",
   "id": "e381119b-86cf-451b-9646-bd3e0bd3750e",
   "metadata": {},
   "source": [
    "### Hello World"
   ]
  },
  {
   "cell_type": "code",
   "execution_count": null,
   "id": "aa9ade99-ca45-4349-8c90-8ef33ea3a545",
   "metadata": {},
   "outputs": [],
   "source": [
    "print(\"Hello World!\")"
   ]
  },
  {
   "cell_type": "code",
   "execution_count": null,
   "id": "96ba52d6-1ff6-4456-a5f3-1f7d5cbc4215",
   "metadata": {},
   "outputs": [],
   "source": []
  }
 ],
 "metadata": {
  "kernelspec": {
   "display_name": "Python 3",
   "language": "python",
   "name": "python3"
  },
  "language_info": {
   "codemirror_mode": {
    "name": "ipython",
    "version": 3
   },
   "file_extension": ".py",
   "mimetype": "text/x-python",
   "name": "python",
   "nbconvert_exporter": "python",
   "pygments_lexer": "ipython3",
   "version": "3.9.4"
  }
 },
 "nbformat": 4,
 "nbformat_minor": 5
}
