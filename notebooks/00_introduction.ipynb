{
 "cells": [
  {
   "cell_type": "markdown",
   "id": "20768aa0-824e-4cad-a6c6-7bb2d09a7605",
   "metadata": {},
   "source": [
    "# Introduction\n",
    "\n",
    "This notebooks contains a basic primer in Python and associated computational tools."
   ]
  },
  {
   "cell_type": "markdown",
   "id": "d5de39cf-7e84-4c4b-9f38-246ad86d1065",
   "metadata": {},
   "source": [
    "## What is JupyterLab?\n",
    "\n",
    "It is very powerful multi-purpose web-based computational environment, particularly suited for Jupyter computational notebooks.\n",
    "\n",
    "A  Jupyter Notebook is a format and a tool to work and experiment with computational tools and libraries. It is composed of editable cell that can contain live code, equations, visualizations and narrative text.\n",
    "\n",
    "A cell can be edited by clicking in it and then executed by pressing Shift+Enter."
   ]
  },
  {
   "cell_type": "markdown",
   "id": "d94fe7c4-dcad-44aa-9016-5b0e139f1afd",
   "metadata": {},
   "source": [
    "## What is Python?\n",
    "\n",
    "Python is a general purpose interpreted computer language."
   ]
  },
  {
   "cell_type": "markdown",
   "id": "55ec32e9-d272-46fa-9399-5299cb431243",
   "metadata": {},
   "source": [
    "### It's can be used as calculator right away"
   ]
  },
  {
   "cell_type": "code",
   "execution_count": null,
   "id": "06f91b58-4850-4453-8e03-540632b37b79",
   "metadata": {},
   "outputs": [],
   "source": [
    "1000 / 25"
   ]
  },
  {
   "cell_type": "markdown",
   "id": "56966fac-8ef8-4260-9054-95fe12f5ea47",
   "metadata": {},
   "source": [
    "Standard operators can be used:\n",
    "- Addition and substraction (+ and -)\n",
    "- Product and division (* and /)\n",
    "- Exponentiation (**) and remainder operation (%)\n",
    "\n",
    "Similar to standard notation, parenthesis indicate operation precedence."
   ]
  },
  {
   "cell_type": "code",
   "execution_count": null,
   "id": "ba6a95f3-cd9b-464e-be6c-bd64ada91f1d",
   "metadata": {},
   "outputs": [],
   "source": [
    "(2 + 7 ) * 4 - 7"
   ]
  },
  {
   "cell_type": "markdown",
   "id": "e381119b-86cf-451b-9646-bd3e0bd3750e",
   "metadata": {},
   "source": [
    "### But also a fully-featured programming language"
   ]
  },
  {
   "cell_type": "markdown",
   "id": "d4c1cce5-5a24-48a5-8918-8436ff86ae86",
   "metadata": {},
   "source": [
    "As tradition mandates, we can start with a [Hello World program](https://en.wikipedia.org/wiki/%22Hello,_World!%22_program):"
   ]
  },
  {
   "cell_type": "code",
   "execution_count": null,
   "id": "aa9ade99-ca45-4349-8c90-8ef33ea3a545",
   "metadata": {},
   "outputs": [],
   "source": [
    "print(\"Hello World!\")"
   ]
  },
  {
   "cell_type": "markdown",
   "id": "2606354d-69c5-4e08-9244-965f3698da87",
   "metadata": {},
   "source": [
    "Some basic features and syntax:\n",
    "- indexation matters\n",
    "- print(something) writes text to output\n",
    "- lines that start with # are comments\n",
    "\n",
    "In Jupyter notebooks the value of the last line in the cell is automatically printed."
   ]
  },
  {
   "cell_type": "markdown",
   "id": "28f8c53e-23f3-4b51-ba99-64c5c8beec36",
   "metadata": {},
   "source": [
    "### Variable assigment"
   ]
  },
  {
   "cell_type": "code",
   "execution_count": null,
   "id": "02e4873a-e16d-47aa-b21e-b6fb7fb19440",
   "metadata": {},
   "outputs": [],
   "source": [
    "# variables can be assiged to a name with the equal sign\n",
    "current_bitcoin_price = 39860.46\n",
    "number_of_students = 15\n",
    "\n",
    "print(current_bitcoin_price/number_of_students)"
   ]
  },
  {
   "cell_type": "markdown",
   "id": "d52a063e-9e7b-46f2-a389-af4d3b584b92",
   "metadata": {},
   "source": [
    "### Basic Types"
   ]
  },
  {
   "cell_type": "code",
   "execution_count": null,
   "id": "96ba52d6-1ff6-4456-a5f3-1f7d5cbc4215",
   "metadata": {},
   "outputs": [],
   "source": [
    "# boolean\n",
    "is_important = True"
   ]
  },
  {
   "cell_type": "code",
   "execution_count": null,
   "id": "c9a55724-c224-456b-a7dd-d42f7f5718fc",
   "metadata": {},
   "outputs": [],
   "source": [
    "# integer and floating point\n",
    "integer_a = 10\n",
    "float_b = 2.71"
   ]
  },
  {
   "cell_type": "code",
   "execution_count": null,
   "id": "ba67e38c-f3f2-4bc4-90ab-7899a7c6d138",
   "metadata": {},
   "outputs": [],
   "source": [
    "# strings\n",
    "string_c = \"this is a string\""
   ]
  },
  {
   "cell_type": "markdown",
   "id": "2342fd6b-cf03-43f4-b269-f5d62f6e0b2e",
   "metadata": {},
   "source": [
    "Rules are very similar than for any other modern programming language."
   ]
  },
  {
   "cell_type": "code",
   "execution_count": null,
   "id": "a0c2841e-0f8d-41fa-999d-7490ae945eb5",
   "metadata": {},
   "outputs": [],
   "source": [
    "# logical operator work as expected\n",
    "integer_a > 20"
   ]
  },
  {
   "cell_type": "code",
   "execution_count": null,
   "id": "0751db30-d8bc-453c-849e-1fbe800a2149",
   "metadata": {},
   "outputs": [],
   "source": [
    "# strings have some useful functionality built-in\n",
    "print(\"The string has a length of \" + str(len(string_c)) + \" characters\")\n",
    "print(\"In uppercase, it would be written as \" + string_c.upper())"
   ]
  },
  {
   "cell_type": "markdown",
   "id": "90648ebd-a23f-40d4-855b-d614ee6d4050",
   "metadata": {},
   "source": [
    "### Data Structures"
   ]
  },
  {
   "cell_type": "markdown",
   "id": "dab7b378-fdcf-4e94-8142-1a39de51ef82",
   "metadata": {},
   "source": [
    "Most important data structures in Python are lists and dictionaries."
   ]
  },
  {
   "cell_type": "code",
   "execution_count": null,
   "id": "fd7c5ed6-c5c1-4e4f-b387-d56c35a2ff08",
   "metadata": {},
   "outputs": [],
   "source": [
    "# list store multiple items in a single variable\n",
    "fruit_list = [\"apple\", \"banana\", \"cherry\"]"
   ]
  },
  {
   "cell_type": "code",
   "execution_count": null,
   "id": "7568b9f8-cf9b-4d88-aa12-f0482c82d7bb",
   "metadata": {},
   "outputs": [],
   "source": [
    "# you can store a mix of anything as a list in Python\n",
    "weird_list = [28, \"Male\", 1.93]"
   ]
  },
  {
   "cell_type": "code",
   "execution_count": null,
   "id": "21d9554a-5991-4d45-a1d6-4aed88d4edb1",
   "metadata": {},
   "outputs": [],
   "source": [
    "# list has some useful built-in funcionality\n",
    "fruit_list.append(\"apricot\")\n",
    "fruit_list.sort(reverse=True)\n",
    "fruit_list"
   ]
  },
  {
   "cell_type": "code",
   "execution_count": null,
   "id": "869a5726-543c-460d-8bb6-26b0b00e02dc",
   "metadata": {},
   "outputs": [],
   "source": [
    "# we can also use indexes to access certain values\n",
    "# starts with 0\n",
    "fruit_list[1]"
   ]
  },
  {
   "cell_type": "code",
   "execution_count": null,
   "id": "8138f5df-4f49-4f30-8140-5c75ca7a181e",
   "metadata": {},
   "outputs": [],
   "source": [
    "# on the other hand dictonaries are used to store data by key\n",
    "# they are usually defined like this\n",
    "car_dictionary = {\n",
    "  \"brand\": \"Ford\",\n",
    "  \"model\": \"Mustang\",\n",
    "  \"year\": 1964\n",
    "}"
   ]
  },
  {
   "cell_type": "code",
   "execution_count": null,
   "id": "4ec99d03-c006-49b6-966a-30ccb06eadef",
   "metadata": {},
   "outputs": [],
   "source": [
    "# they can be assigned by key\n",
    "car_dictionary[\"color\"] = \"red\"\n",
    "car_dictionary[\"plate\"] = \"2495GKS\"\n",
    "car_dictionary"
   ]
  },
  {
   "cell_type": "code",
   "execution_count": null,
   "id": "1e43adb3-02bc-4f48-abac-ccef4c4881a0",
   "metadata": {},
   "outputs": [],
   "source": [
    "# also accesed by key\n",
    "car_dictionary[\"model\"]"
   ]
  },
  {
   "cell_type": "markdown",
   "id": "ccc6bddc-c34a-46f6-95ee-8be4dbafaf9b",
   "metadata": {},
   "source": [
    "### Control Structures and Functions\n",
    "\n",
    "Addional power comes from the use of control structures and funcions to create composable and general programs.\n",
    "\n",
    "Python implements the usual control statements (e.g. if, if..else, for loop and while loop) and also the ability to define funcions.\n"
   ]
  },
  {
   "cell_type": "code",
   "execution_count": null,
   "id": "208c5066-27f1-4408-bb72-f1c76c388895",
   "metadata": {},
   "outputs": [],
   "source": [
    "price =  200\n",
    "\n",
    "if price < 0.01:\n",
    "    print(\"It's too cheap\")\n",
    "elif price > 200:\n",
    "    print(\"It's too expensive\")\n",
    "else:\n",
    "    print(\"It's OK\")"
   ]
  },
  {
   "cell_type": "code",
   "execution_count": null,
   "id": "14eba3f9-132d-47af-9544-cc07f73b3393",
   "metadata": {},
   "outputs": [],
   "source": [
    "# for loops iterate through whatever you use\n",
    "capitalized_fruit_list = []\n",
    "for fruit in fruit_list:\n",
    "    print(fruit[0].upper()+fruit[1:])\n",
    "    capitalized_fruit_list.append(fruit)"
   ]
  },
  {
   "cell_type": "code",
   "execution_count": null,
   "id": "8443206e-9ce1-47f2-8d43-b58278cb0a74",
   "metadata": {},
   "outputs": [],
   "source": [
    "# this is a function\n",
    "def is_old_car(car_dictionary):\n",
    "    \n",
    "    if car_dictionary[\"year\"] < 1992:\n",
    "        return True\n",
    "    else:\n",
    "        return False"
   ]
  },
  {
   "cell_type": "code",
   "execution_count": null,
   "id": "87a6be94-ef04-407a-b947-5395db329669",
   "metadata": {},
   "outputs": [],
   "source": [
    "# data structures and functions can be combined to create very powerful abstractions\n",
    "other_car_dictionary = {\n",
    "  \"brand\": \"Ford\",\n",
    "  \"model\": \"Mustang\",\n",
    "  \"year\": 14\n",
    "}\n",
    "\n",
    "is_old_car(other_car_dictionary)"
   ]
  },
  {
   "cell_type": "markdown",
   "id": "844e9221-919d-4d8f-8588-1802477d243f",
   "metadata": {},
   "source": [
    "### Libraries"
   ]
  },
  {
   "cell_type": "markdown",
   "id": "1d14c0b2-c778-4bfb-9c18-e857520d5e68",
   "metadata": {},
   "source": [
    "Part of the popularity of Python comes from having a large number that support a large number of use cases in different domains (data analytics, text processing, web development, etc).\n",
    "\n",
    "Part of this libraries come include with Python while others are developed and mantained outside."
   ]
  },
  {
   "cell_type": "code",
   "execution_count": null,
   "id": "8a15be2a-4900-4aca-8ddd-1611669f4849",
   "metadata": {},
   "outputs": [],
   "source": [
    "# this is how you import library, in this case comes from standard python\n",
    "import math\n",
    "\n",
    "# calculated the tangent\n",
    "math.tan(2)"
   ]
  },
  {
   "cell_type": "code",
   "execution_count": null,
   "id": "a8181336-1c17-4fdd-b434-d5a630f8d514",
   "metadata": {},
   "outputs": [],
   "source": [
    "# another standard library to generate random numbers\n",
    "import random\n",
    "\n",
    "# will generate a random float number\n",
    "random.random()"
   ]
  },
  {
   "cell_type": "code",
   "execution_count": null,
   "id": "369f3c84-18e0-4f2b-88fe-f60d5f18985c",
   "metadata": {},
   "outputs": [],
   "source": [
    "# here are for example some commonly used libraries for data analysis\n",
    "import numpy as np\n",
    "import matplotlib.pyplot as plt\n",
    "\n",
    "# this calculates 100 equally distributed number from 0 to 10\n",
    "x = np.linspace(0,10,100)\n",
    "# we can calculate the sin of those numbers\n",
    "y = np.sin(x)\n",
    "\n",
    "# and plot it\n",
    "plt.plot(x, y);"
   ]
  },
  {
   "cell_type": "markdown",
   "id": "3c615866-ba63-44e1-a308-75723458f7c5",
   "metadata": {},
   "source": [
    "## Example Real Data Application\n",
    "\n",
    "We are gonna be doing a basic data analysis of waste containers in the city of Santander, our final goal is gonna be telling the people in charge of picking up the containers which containers should pick up today and which not.\n",
    "\n",
    "We are gonna be using data from [Santander city open data](http://datos.santander.es/)."
   ]
  },
  {
   "cell_type": "code",
   "execution_count": null,
   "id": "eda40e8e-c2c2-49e1-89ca-499271df8585",
   "metadata": {},
   "outputs": [],
   "source": [
    "# this is useful library to make https requests\n",
    "import requests"
   ]
  },
  {
   "cell_type": "code",
   "execution_count": null,
   "id": "48a8cffa-a81c-4832-99aa-ab82045c3519",
   "metadata": {},
   "outputs": [],
   "source": [
    "# this asks for the data\n",
    "response = requests.get(\"https://datos.santander.es/rest/datasets/residuos_contenedores.json\")\n",
    "response"
   ]
  },
  {
   "cell_type": "code",
   "execution_count": null,
   "id": "a73a825d-49ee-4270-9c11-dc3cddda1a30",
   "metadata": {},
   "outputs": [],
   "source": [
    "# example response\n",
    "print(response.text[0:1000], \"...\")"
   ]
  },
  {
   "cell_type": "code",
   "execution_count": null,
   "id": "53f38fbb-61a8-43de-839f-dffec9589a0e",
   "metadata": {},
   "outputs": [],
   "source": [
    "# we can convert the response to json and read some of the attributes\n",
    "response_summary = response.json()[\"summary\"]\n",
    "print(response_summary)\n",
    "total_pages = response_summary[\"pages\"]\n",
    "items = response_summary[\"items\"]"
   ]
  },
  {
   "cell_type": "code",
   "execution_count": null,
   "id": "1acf7405-1306-4e23-8b35-5568f9b9bff0",
   "metadata": {},
   "outputs": [],
   "source": [
    "# because this is a paged API we need to do several request to get all data\n",
    "\n",
    "all_resources = []\n",
    "\n",
    "for page_index in range(total_pages):\n",
    "    page_number = page_index + 1\n",
    "    response = requests.get(\"https://datos.santander.es/rest/datasets/residuos_contenedores.json\",\n",
    "                            params={\"page\": page_number})\n",
    "    all_resources += response.json()[\"resources\"]\n"
   ]
  },
  {
   "cell_type": "code",
   "execution_count": null,
   "id": "23aff775-efc0-418b-ba71-e14204aca817",
   "metadata": {},
   "outputs": [],
   "source": [
    "print(\"A total of \"+ str(len(all_resources)) + \" containers found\")\n",
    "all_resources[0:3]"
   ]
  },
  {
   "cell_type": "code",
   "execution_count": null,
   "id": "46988e35-a47a-4a59-bfaa-259012713e80",
   "metadata": {},
   "outputs": [],
   "source": [
    "# we are gonna use on of the most used libraries for this\n",
    "import pandas as pd"
   ]
  },
  {
   "cell_type": "code",
   "execution_count": null,
   "id": "56df4459-a9ed-45b3-ad7a-999e9150be96",
   "metadata": {},
   "outputs": [],
   "source": [
    "# the basic abstraccion of the library is a DataFrame that is like a table\n",
    "data_frame = pd.DataFrame(all_resources)\n",
    "data_frame"
   ]
  },
  {
   "cell_type": "code",
   "execution_count": null,
   "id": "ccfec000-1958-497e-9978-0fa2f8ea130e",
   "metadata": {},
   "outputs": [],
   "source": [
    "# this provides some info aboud the data loaded\n",
    "data_frame.info()"
   ]
  },
  {
   "cell_type": "code",
   "execution_count": null,
   "id": "3bd7d753-bc31-4123-a2b7-a5d11296798a",
   "metadata": {},
   "outputs": [],
   "source": [
    "# convert numeric columns manually to numeric types\n",
    "data_frame[\"ayto:nivelLlenado\"] = pd.to_numeric(data_frame[\"ayto:nivelLlenado\"])\n",
    "data_frame[\"ayto:temperatura\"] = pd.to_numeric(data_frame[\"ayto:temperatura\"])\n",
    "data_frame[\"ayto:capacidad\"] = pd.to_numeric(data_frame[\"ayto:capacidad\"])\n",
    "# also for latitude and longitude\n",
    "data_frame[\"ayto:latitud\"] = pd.to_numeric(data_frame[\"ayto:latitud\"])\n",
    "data_frame[\"ayto:longitud\"] = pd.to_numeric(data_frame[\"ayto:longitud\"])\n",
    "# convert datetime columns to datetime times\n",
    "data_frame[\"dc:modified\"] = pd.to_datetime(data_frame[\"dc:modified\"])\n",
    "data_frame[\"ayto:fechaAlta\"] = pd.to_datetime(data_frame[\"ayto:fechaAlta\"])\n"
   ]
  },
  {
   "cell_type": "code",
   "execution_count": null,
   "id": "dba7471c-2ffb-4db0-8d94-61b9d7c6b5fe",
   "metadata": {},
   "outputs": [],
   "source": [
    "# has a lot of useful functionality built-in\n",
    "# such as computing the max or the min\n",
    "data_frame[\"ayto:temperatura\"].max()"
   ]
  },
  {
   "cell_type": "code",
   "execution_count": null,
   "id": "d1e9e898-b2bc-4129-a624-9382a1e01ed6",
   "metadata": {},
   "outputs": [],
   "source": [
    "# or the mean\n",
    "data_frame[\"ayto:nivelLlenado\"].mean()"
   ]
  },
  {
   "cell_type": "code",
   "execution_count": null,
   "id": "de785f6f-239f-4afc-96df-73602265eed0",
   "metadata": {},
   "outputs": [],
   "source": [
    "# we can also sort the table by any key\n",
    "data_frame.sort_values(\"dc:modified\", ascending=False)"
   ]
  },
  {
   "cell_type": "code",
   "execution_count": null,
   "id": "be9107a2-12be-46e4-af85-25875e598964",
   "metadata": {},
   "outputs": [],
   "source": [
    "# we can also group by certain vairiables and compute some properties\n",
    "data_frame.groupby(\"ayto:residuo\").describe()[\"ayto:nivelLlenado\"]"
   ]
  },
  {
   "cell_type": "code",
   "execution_count": null,
   "id": "9e44fe8a-603d-4394-babe-e68ecb5f36db",
   "metadata": {},
   "outputs": [],
   "source": [
    "# we can also create useful visualizations very simply\n",
    "data_frame.hist([\"ayto:nivelLlenado\",\"ayto:temperatura\"], figsize=(10,5))"
   ]
  },
  {
   "cell_type": "code",
   "execution_count": null,
   "id": "411320db-f2a1-40ad-945b-045bc2b10103",
   "metadata": {},
   "outputs": [],
   "source": [
    "data_frame.groupby([\"ayto:residuo\",\"ayto:capacidad\"]).count()[\"dc:identifier\"].plot.bar()"
   ]
  },
  {
   "cell_type": "code",
   "execution_count": null,
   "id": "85655f99-5c97-431f-88a8-b9aba52e41b2",
   "metadata": {},
   "outputs": [],
   "source": [
    "# we can filter using simple expressions\n",
    "is_envases = data_frame[\"ayto:residuo\"] == \"Envases\"\n",
    "envases_data_frame = data_frame.loc[is_envases]"
   ]
  },
  {
   "cell_type": "code",
   "execution_count": null,
   "id": "e4eafd3e-0e56-4b60-b811-9b94c784641b",
   "metadata": {},
   "outputs": [],
   "source": [
    "# then further filter for example for those that are filled more than 90%\n",
    "filled_envases = envases_data_frame[\"ayto:nivelLlenado\"] > 90\n",
    "filled_envases_data_frame = envases_data_frame.loc[filled_envases]\n",
    "filled_envases_data_frame"
   ]
  },
  {
   "cell_type": "code",
   "execution_count": null,
   "id": "4c85b081-cbb5-48ca-adef-2c0ce4bcb3ed",
   "metadata": {},
   "outputs": [],
   "source": [
    "# there are many more visualations and analysis posible\n",
    "# another useful thing is visualizing in a map\n",
    "# we can use for example the folium library\n",
    "import folium\n",
    "\n",
    "\n",
    "\n",
    "# this is an empty map centered around santander\n",
    "location = (43.471198, -3.801362)\n",
    "m = folium.Map(location=location,\n",
    "               zoom_start=13)\n",
    "m"
   ]
  },
  {
   "cell_type": "code",
   "execution_count": null,
   "id": "aa2d4d6d-475f-4ddf-aeb8-a992227ca854",
   "metadata": {},
   "outputs": [],
   "source": [
    "# we can create another maps with the location of the filled envases containers\n",
    "\n",
    "# this is an empty map centered around santander\n",
    "location = (43.471198, -3.801362)\n",
    "m = folium.Map(location=location,\n",
    "               zoom_start=13)\n",
    "\n",
    "for idx, filled_envase in filled_envases_data_frame.iterrows():\n",
    "    latitude_longitude = (filled_envase[\"ayto:latitud\"],filled_envase[\"ayto:longitud\"])\n",
    "    fill_level = filled_envase[\"ayto:nivelLlenado\"]\n",
    "    address = filled_envase[\"ayto:direccion\"]\n",
    "    text = f\"{address} \\n Nivel Llenado: {fill_level:.1f}\"\n",
    "    marker = folium.Marker(latitude_longitude, popup=text)\n",
    "    marker.add_to(m)\n",
    "    \n",
    "m"
   ]
  },
  {
   "cell_type": "markdown",
   "id": "f94ce7ba-0f56-4125-8a7b-5e70d1fc7059",
   "metadata": {},
   "source": [
    "### Exercise: Which Paper Containers Should be Picked up today?\n",
    "\n",
    "For example let us assume we want to pick all containers over con un **ayto:nivelLlenado** mayor de 95. Produce a map with all containers that should be picked up."
   ]
  },
  {
   "cell_type": "code",
   "execution_count": null,
   "id": "cf878f95-12ef-44e4-aaca-cd387589a044",
   "metadata": {},
   "outputs": [],
   "source": [
    "# write here solutions"
   ]
  },
  {
   "cell_type": "code",
   "execution_count": null,
   "id": "75440ecb-37cd-4f4d-8301-3ff6abae67f3",
   "metadata": {},
   "outputs": [],
   "source": [
    "# several cells can be used"
   ]
  }
 ],
 "metadata": {
  "kernelspec": {
   "display_name": "Python 3",
   "language": "python",
   "name": "python3"
  },
  "language_info": {
   "codemirror_mode": {
    "name": "ipython",
    "version": 3
   },
   "file_extension": ".py",
   "mimetype": "text/x-python",
   "name": "python",
   "nbconvert_exporter": "python",
   "pygments_lexer": "ipython3",
   "version": "3.9.4"
  }
 },
 "nbformat": 4,
 "nbformat_minor": 5
}
